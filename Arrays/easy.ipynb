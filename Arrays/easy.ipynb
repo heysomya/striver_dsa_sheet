{
 "cells": [
  {
   "attachments": {},
   "cell_type": "markdown",
   "metadata": {},
   "source": [
    "Largest  Element in Array"
   ]
  },
  {
   "cell_type": "code",
   "execution_count": 5,
   "metadata": {},
   "outputs": [
    {
     "name": "stdout",
     "output_type": "stream",
     "text": [
      "731\n"
     ]
    }
   ],
   "source": [
    "\"\"\"\n",
    "Brute Force\n",
    "TC: O(N*log(N))\n",
    "SC: O(N)\n",
    "\"\"\"\n",
    "def largest(arr, n):\n",
    "    arr.sort()\n",
    "    return arr[n-1]\n",
    "\n",
    "\n",
    "\n",
    "\"\"\"\n",
    "Optimal\n",
    "TC: O(N)\n",
    "SC: O(1)\n",
    "\"\"\"\n",
    "def largest(arr,n):\n",
    "    largeIdx = 0\n",
    "    for i in range(1, n):\n",
    "        if arr[i] > arr[largeIdx]:\n",
    "            largeIdx = i\n",
    "    \n",
    "    return arr[largeIdx]\n",
    "\n",
    "\n",
    "arr = [1,42,5,731,7,113,2]\n",
    "res = largest(arr, len(arr))\n",
    "print(res)"
   ]
  },
  {
   "attachments": {},
   "cell_type": "markdown",
   "metadata": {},
   "source": [
    "Second Largest Element in Array"
   ]
  },
  {
   "cell_type": "code",
   "execution_count": 29,
   "metadata": {},
   "outputs": [
    {
     "name": "stdout",
     "output_type": "stream",
     "text": [
      "5\n"
     ]
    }
   ],
   "source": [
    "'''\n",
    "Brute Force\n",
    "TC: O(NlogN + N)\n",
    "SC: O(N)\n",
    "'''\n",
    "# def secondLargest(arr, n):\n",
    "#     arr.sort()\n",
    "#     largest = arr[-1]\n",
    "#     for i in range(n-2, -1, -1):\n",
    "#         if arr[i] != largest:\n",
    "#             return arr[i]\n",
    "    \n",
    "#     return -1\n",
    "\n",
    "\n",
    "\"\"\"\n",
    "Better\n",
    "using 2 passes, one for largest and one for second largest\n",
    "TC: O(2*N)\n",
    "SC: O(1)\n",
    "\"\"\"\n",
    "# def secondLargest(arr, n):\n",
    "#     largest = arr[0]\n",
    "#     for i in range(1, n):\n",
    "#         if arr[i] > largest:\n",
    "#             largest = arr[i]\n",
    "    \n",
    "#     sec_largest = -1\n",
    "#     for j in range(n):\n",
    "#         if (arr[j] > sec_largest) and arr[j] != largest:\n",
    "#             sec_largest = arr[j]\n",
    "    \n",
    "#     return sec_largest\n",
    "\n",
    "\n",
    "\n",
    "\"\"\"\n",
    "Optimal\n",
    "using 1 passes, updating both largest and second largest at a time\n",
    "TC: O(N)\n",
    "SC: O(1)\n",
    "\"\"\"\n",
    "def secondLargest(arr, n):\n",
    "    largest = arr[0]\n",
    "    sec_largest = -1\n",
    "    for i in range(1, n):\n",
    "        if arr[i] > largest:\n",
    "            sec_largest = largest\n",
    "            largest = arr[i]\n",
    "        else:\n",
    "            if (arr[i]<largest) and (arr[i]>sec_largest):\n",
    "                sec_largest = arr[i]\n",
    "                \n",
    "    # print(\"Optimal solution\")\n",
    "    return sec_largest\n",
    "\n",
    "# arr = [1,42,5,731,790,7,113,2,880]\n",
    "# arr = [2]\n",
    "arr = [1,2,4,7,7,5]\n",
    "n=len(arr)\n",
    "res = secondLargest(arr, n)\n",
    "print(res)"
   ]
  },
  {
   "attachments": {},
   "cell_type": "markdown",
   "metadata": {},
   "source": [
    "Check if the array is sorted?"
   ]
  },
  {
   "cell_type": "code",
   "execution_count": 31,
   "metadata": {},
   "outputs": [
    {
     "name": "stdout",
     "output_type": "stream",
     "text": [
      "True\n"
     ]
    }
   ],
   "source": [
    "\"\"\"\n",
    "Optimal\n",
    "TC: O(N)\n",
    "SC: O(1)\n",
    "\"\"\"\n",
    "\n",
    "\n",
    "def arraySortedOrNot(arr, n):\n",
    "    sorted=True\n",
    "    for i in range(1, n):\n",
    "        if arr[i] < arr[i-1]:\n",
    "            sorted = False\n",
    "            break\n",
    "    \n",
    "    return sorted\n",
    "\n",
    "\n",
    "arr = [1,2,4,6,8]\n",
    "# arr = [4,3,7,3,2]\n",
    "\n",
    "res = arraySortedOrNot(arr, len(arr))\n",
    "print(res)"
   ]
  },
  {
   "attachments": {},
   "cell_type": "markdown",
   "metadata": {},
   "source": [
    "Remove Duplicates from a Sorted Array"
   ]
  },
  {
   "cell_type": "code",
   "execution_count": 55,
   "metadata": {},
   "outputs": [
    {
     "name": "stdout",
     "output_type": "stream",
     "text": [
      "1 3 5 7 "
     ]
    }
   ],
   "source": [
    "\"\"\"\n",
    "Brute Force\n",
    "T(C): O(NlogN + 3N) --> O(NlogN)\n",
    "S(C): O(N)\n",
    "\"\"\"\n",
    "\n",
    "def removeDuplicate(arr, n):\n",
    "    res = list(set(arr)) \n",
    "    res.sort()\n",
    "\n",
    "    i=0\n",
    "    for item in res:\n",
    "        arr[i] = item\n",
    "        i+=1\n",
    "    return len(res)\n",
    "\n",
    "\n",
    "\n",
    "\n",
    "\"\"\"\n",
    "Optimal - Using 2 pointers\n",
    "T(C): O(N)\n",
    "S(C): O(1)\n",
    "\"\"\"\n",
    "def removeDuplicate(arr, n):\n",
    "    i = 0\n",
    "    j = 1\n",
    "    while j<n:\n",
    "        if arr[j]==arr[i]:\n",
    "            j+=1\n",
    "        else:\n",
    "            arr[i+1] = arr[j]\n",
    "            i+=1\n",
    "            j+=1\n",
    "\n",
    "    return i+1\n",
    "\n",
    "arr = [1,1,3,3,3,5,5,7]\n",
    "res = removeDuplicate(arr, len(arr))\n",
    "for i in range(res):\n",
    "    print(arr[i], end=\" \")"
   ]
  },
  {
   "attachments": {},
   "cell_type": "markdown",
   "metadata": {},
   "source": [
    "Left Rotate Array by One Place"
   ]
  },
  {
   "cell_type": "code",
   "execution_count": 62,
   "metadata": {},
   "outputs": [
    {
     "name": "stdout",
     "output_type": "stream",
     "text": [
      "[2, 3, 4, 5, 1]\n"
     ]
    }
   ],
   "source": [
    "\"\"\"\n",
    "Optimal\n",
    "T(C): O(N)\n",
    "S(C): O(1)\n",
    "\"\"\"\n",
    "\n",
    "def leftRotateByOne(arr, n):\n",
    "    temp = arr[0]\n",
    "    for i in range(n-1):\n",
    "        arr[i] = arr[i+1]\n",
    "    arr[i+1] = temp\n",
    "\n",
    "arr = [1,2,3,4,5]\n",
    "leftRotateByOne(arr, len(arr))\n",
    "print(arr)"
   ]
  },
  {
   "attachments": {},
   "cell_type": "markdown",
   "metadata": {},
   "source": [
    "Left Rotate Array by D places"
   ]
  },
  {
   "cell_type": "code",
   "execution_count": 85,
   "metadata": {},
   "outputs": [
    {
     "name": "stdout",
     "output_type": "stream",
     "text": [
      "[4, 5, 6, 7, 8, 1, 2, 3]\n"
     ]
    }
   ],
   "source": [
    "\"\"\"\n",
    "BRUTE FORCE\n",
    "TC: O(d)+O(N-d)+O(d) --> O(N+d)\n",
    "SC: O(d)\n",
    "\"\"\"\n",
    "# def leftRotateByD(arr, n, d):\n",
    "#     d = d%n\n",
    "#     if d==0:\n",
    "#         return\n",
    "\n",
    "#     temp = []\n",
    "#     for i in range(d):\n",
    "#         temp.append(arr[i])\n",
    "\n",
    "#     for i in range(d, n):\n",
    "#         arr[i-d] = arr[i]\n",
    "    \n",
    "#     for i in range(d):\n",
    "#         arr[n-d+i] = temp[i]\n",
    "\n",
    "\n",
    "\"\"\"\n",
    "BETTER (Using array slicing)\n",
    "TC: O(N)\n",
    "SC: O(N)\n",
    "\"\"\"\n",
    "# def leftRotateByD(arr, n, d):\n",
    "#     arr[:] = arr[d:] + arr[:d]\n",
    "#     return \n",
    "\n",
    "\n",
    "\"\"\"\n",
    "OPTIMAL\n",
    "TC: O(d) + O(N-d) + O(N) --> O(2N)\n",
    "SC: O(1)\n",
    "\"\"\"\n",
    "def leftRotateByD(arr, n, d):\n",
    "    d = d%n\n",
    "    if d==0:\n",
    "        return\n",
    "\n",
    "    reverseArray(arr, 0, d-1) \n",
    "    reverseArray(arr, d, n-1)\n",
    "    reverseArray(arr, 0, n-1)\n",
    "\n",
    "def reverseArray(arr, low, high):\n",
    "    while low<high:\n",
    "        temp = arr[low]\n",
    "        arr[low] = arr[high]\n",
    "        arr[high] = temp\n",
    "        low+=1\n",
    "        high-=1\n",
    "        \n",
    "\n",
    "arr = [1,2,3,4,5,6,7,8]\n",
    "d=3\n",
    "leftRotateByD(arr, len(arr), d)\n",
    "print(arr)"
   ]
  },
  {
   "attachments": {},
   "cell_type": "markdown",
   "metadata": {},
   "source": [
    "Move all zeroes to the end of the array"
   ]
  },
  {
   "cell_type": "code",
   "execution_count": 92,
   "metadata": {},
   "outputs": [
    {
     "name": "stdout",
     "output_type": "stream",
     "text": [
      "[1, 3, 12, 0, 0]\n"
     ]
    }
   ],
   "source": [
    "\"\"\"\n",
    "BRUTE FORCE\n",
    "TC: O(N)+O(x)+O(N-x) --> O(2N)   //x is the number of non-zero elements\n",
    "SC: O(x)\n",
    "\"\"\"\n",
    "\n",
    "def pushZeroesToEnd(arr, n):\n",
    "    temp = []\n",
    "    for i in range(n):\n",
    "        if arr[i] != 0:\n",
    "            temp.append(arr[i])\n",
    "\n",
    "    for i in range(len(temp)):\n",
    "        arr[i] = temp[i]\n",
    "        \n",
    "    for i in range(len(temp), n):\n",
    "        arr[i] = 0\n",
    "\n",
    "\"\"\"\n",
    "OPTIMAL\n",
    "TC: O(x)+O(N-x) --> O(2N)   //x is the number of elements until the first zero is found\n",
    "SC: O(1)\n",
    "\"\"\"\n",
    "def pushZeroesToEnd(arr, n):\n",
    "    i = -1\n",
    "    for j in range(n):\n",
    "        if arr[j] == 0:\n",
    "            i = j\n",
    "            break\n",
    "    \n",
    "    if i==-1:\n",
    "        return \n",
    "        \n",
    "    for j in range(i+1, n):\n",
    "        if arr[j] != 0:\n",
    "            temp = arr[i]\n",
    "            arr[i] = arr[j]\n",
    "            arr[j] = temp\n",
    "            i+=1\n",
    "        \n",
    "arr = [0,1,0,3,12]\n",
    "n = len(arr)\n",
    "pushZeroesToEnd(arr, n)\n",
    "print(arr)"
   ]
  },
  {
   "attachments": {},
   "cell_type": "markdown",
   "metadata": {},
   "source": [
    "Linear Search"
   ]
  },
  {
   "cell_type": "code",
   "execution_count": 34,
   "metadata": {},
   "outputs": [
    {
     "name": "stdout",
     "output_type": "stream",
     "text": [
      "66995\n"
     ]
    }
   ],
   "source": [
    "\"\"\"\n",
    "OPTIMAL\n",
    "TC: O(N)\n",
    "SC: O(1)\n",
    "\"\"\"\n",
    "import random\n",
    "\n",
    "def linearSearch(arr, n, k):\n",
    "    for i in range(n):\n",
    "        if arr[i] == k:\n",
    "            return i\n",
    "    return -1\n",
    "\n",
    "\n",
    "arr = [int(ele) for ele in range(100000)]\n",
    "random.shuffle(arr)\n",
    "n = len(arr)\n",
    "k = 4560\n",
    "res = linearSearch(arr, n, k)\n",
    "print(res)"
   ]
  },
  {
   "attachments": {},
   "cell_type": "markdown",
   "metadata": {},
   "source": [
    "Find the Union of two Sorted Arrays"
   ]
  },
  {
   "cell_type": "code",
   "execution_count": 13,
   "metadata": {},
   "outputs": [
    {
     "name": "stdout",
     "output_type": "stream",
     "text": [
      "[1, 2, 3, 4, 5, 6, 7]\n"
     ]
    }
   ],
   "source": [
    "\"\"\"\n",
    "BRUTE FORCE\n",
    "TC: O((m+n)log(m+n))\n",
    "SC: O(m+n)\n",
    "\"\"\"\n",
    "# def findUnion(arr1, arr2):\n",
    "#     s = set()\n",
    "#     for ele in arr1:\n",
    "#         s.add(ele)\n",
    "\n",
    "#     for ele in arr2:\n",
    "#         s.add(ele)\n",
    "    \n",
    "#     res = list(s)\n",
    "#     res.sort()\n",
    "#     return res\n",
    "\n",
    "\n",
    "\"\"\"\n",
    "OPTIMAL\n",
    "TC: O(m+n)\n",
    "SC: O(1)\n",
    "\"\"\"\n",
    "def findUnion(arr1, arr2, n, m):\n",
    "    i = 0\n",
    "    j = 0\n",
    "    arr = []\n",
    "\n",
    "    while i<n and j<m:\n",
    "        if arr1[i]<=arr2[j]:\n",
    "            if len(arr)==0 or arr1[i] != arr[-1]:\n",
    "                arr.append(arr1[i])\n",
    "            i+=1\n",
    "        else:\n",
    "            if len(arr)==0 or arr2[j] != arr[-1]:\n",
    "                arr.append(arr2[j])\n",
    "            j+=1\n",
    "\n",
    "    while i<n:\n",
    "        if arr1[i] != arr[-1]:\n",
    "            arr.append(arr1[i])\n",
    "        i+=1\n",
    "    \n",
    "    while j<m:\n",
    "        if arr2[j] != arr[-1]:\n",
    "            arr.append(arr2[j])\n",
    "        j+=1\n",
    "    return arr\n",
    "\n",
    "arr1 = [1,2,2,4,6,7,7]\n",
    "n = len(arr1)\n",
    "arr2 = [1,1,3,4,5,5]\n",
    "m = len(arr2)\n",
    "res = findUnion(arr1, arr2, n, m)\n",
    "print(res)"
   ]
  },
  {
   "cell_type": "code",
   "execution_count": 35,
   "metadata": {},
   "outputs": [
    {
     "name": "stdout",
     "output_type": "stream",
     "text": [
      "[1, 1, 2]\n"
     ]
    }
   ],
   "source": [
    "\"\"\"\n",
    "BRUTE FORCE\n",
    "TC: O(m*n)\n",
    "SC: O(m)\n",
    "\"\"\"\n",
    "\n",
    "def findIntersection(arr1, arr2, n, m):\n",
    "    visited = [0]*m\n",
    "    res = []\n",
    "    for i in range(n):\n",
    "        for j in range(m):\n",
    "            if arr1[i]==arr2[j] and visited[j] == 0:\n",
    "                res.append(arr1[j])\n",
    "                visited[j]=1\n",
    "                break\n",
    "    return res\n",
    "\n",
    "\n",
    "\"\"\"\n",
    "OPTIMAL\n",
    "TC: O(m+n)\n",
    "SC: O(1)\n",
    "\"\"\"\n",
    "def findIntersection(arr1, arr2, n, m):\n",
    "    i = 0\n",
    "    j = 0\n",
    "    arr = []\n",
    "\n",
    "    while i<n and j<m:\n",
    "        if arr1[i]<arr2[j]:\n",
    "            i+=1\n",
    "        elif arr1[i]>arr2[j]:\n",
    "            j+=1\n",
    "        else:\n",
    "            arr.append(arr1[i])\n",
    "            i+=1\n",
    "            j+=1\n",
    "    return arr\n",
    "\n",
    "arr1 = [1,1,2,2,4,6,7,7]\n",
    "n = len(arr1)\n",
    "arr2 = [1,1,3,4,5,5]\n",
    "m = len(arr2)\n",
    "res = findIntersection(arr1, arr2, n, m)\n",
    "print(res)"
   ]
  },
  {
   "attachments": {},
   "cell_type": "markdown",
   "metadata": {},
   "source": [
    "Find missing number in array"
   ]
  },
  {
   "cell_type": "code",
   "execution_count": 44,
   "metadata": {},
   "outputs": [
    {
     "name": "stdout",
     "output_type": "stream",
     "text": [
      "6\n"
     ]
    }
   ],
   "source": [
    "\"\"\"\n",
    "BRUTE FORCE\n",
    "TC: O(n*n)\n",
    "SC: O(1)\n",
    "\"\"\"\n",
    "# def findMissingNum(arr, n):\n",
    "#     for i in range(1, n+1):\n",
    "#         found = False\n",
    "#         for ele in arr:\n",
    "#             if i == ele:\n",
    "#                 found = True\n",
    "#                 break\n",
    "#         if found==False:\n",
    "#             return i\n",
    "\n",
    "\n",
    "\"\"\"\n",
    "BETTER\n",
    "TC: O(2n)\n",
    "SC: O(n)\n",
    "\"\"\"\n",
    "# def findMissingNum(arr, n):\n",
    "#     hashMap = [0]*(n+1)\n",
    "#     for ele in arr:\n",
    "#         hashMap[ele] = 1\n",
    "    \n",
    "#     for i in range(1, n+1):\n",
    "#         if hashMap[i] == 0:\n",
    "#             return i\n",
    "\n",
    "\n",
    "\"\"\"\n",
    "OPTIMAL - 1\n",
    "TC: O(n)\n",
    "SC: O(1)\n",
    "\"\"\"\n",
    "# def findMissingNum(arr, n):\n",
    "#     total = 0\n",
    "#     for ele in arr:\n",
    "#         total += ele\n",
    "    \n",
    "#     return n*(n+1)//2 - total\n",
    "    \n",
    "\n",
    "\"\"\"\n",
    "OPTIMAL - 2 [Better for larger input sizes]\n",
    "TC: O(n)\n",
    "SC: O(1)\n",
    "\"\"\"\n",
    "def findMissingNum(arr, n):\n",
    "    xor1=0\n",
    "    xor2=0\n",
    "    for i in range(n-1):\n",
    "        xor1 = xor1^arr[i]\n",
    "        xor2 = xor2^(i+1)\n",
    "\n",
    "    xor2 = xor2^n\n",
    "    return xor1^xor2\n",
    "\n",
    "\n",
    "arr = [1,4,5,3,2]\n",
    "n = 6\n",
    "res = findMissingNum(arr, n)\n",
    "print(res)"
   ]
  },
  {
   "attachments": {},
   "cell_type": "markdown",
   "metadata": {},
   "source": [
    "Find the maximum number of consecutive 1's in the array"
   ]
  },
  {
   "cell_type": "code",
   "execution_count": 45,
   "metadata": {},
   "outputs": [
    {
     "name": "stdout",
     "output_type": "stream",
     "text": [
      "3\n"
     ]
    }
   ],
   "source": [
    "\"\"\"\n",
    "OPTIMAL\n",
    "TC: O(N)\n",
    "SC: O(1)\n",
    "\"\"\"\n",
    "\n",
    "def findMaxConsecutiveOnes(nums):\n",
    "        maxCount = 0\n",
    "        count = 0\n",
    "\n",
    "        for i in range(len(nums)):\n",
    "            if nums[i]==1:\n",
    "                count+=1\n",
    "                if count > maxCount:\n",
    "                    maxCount = count\n",
    "            else:\n",
    "                count=0\n",
    "\n",
    "        return maxCount\n",
    "\n",
    "arr = [1,1,0,1,1,1]\n",
    "res = findMaxConsecutiveOnes(arr)\n",
    "print(res)"
   ]
  },
  {
   "attachments": {},
   "cell_type": "markdown",
   "metadata": {},
   "source": [
    "Find the element that appears only once"
   ]
  },
  {
   "cell_type": "code",
   "execution_count": 66,
   "metadata": {},
   "outputs": [
    {
     "name": "stdout",
     "output_type": "stream",
     "text": [
      "2\n"
     ]
    }
   ],
   "source": [
    "\"\"\"\n",
    "BRUTE FORCE\n",
    "TC: O(n*n)\n",
    "SC: O(1)\n",
    "\"\"\"\n",
    "# def findEle(arr, n):\n",
    "#     for i in range(n):\n",
    "#         count = 0\n",
    "#         for j in range(n):\n",
    "#             if arr[j] == arr[i]:\n",
    "#                 count+=1\n",
    "#         if count==1:\n",
    "#             return arr[i]\n",
    "\n",
    "\n",
    "\"\"\"\n",
    "BETTER - 1\n",
    "TC: O(3N)\n",
    "SC: O(maxi) \n",
    "\"\"\"\n",
    "# def findEle(arr, n):\n",
    "#     maxi = arr[0]\n",
    "#     for i in range(1, n):\n",
    "#         if arr[i] > maxi:\n",
    "#             maxi = arr[i]\n",
    "\n",
    "#     hashMap = [0]*(maxi+1)\n",
    "\n",
    "#     for ele in arr:\n",
    "#         hashMap[ele] += 1\n",
    "    \n",
    "#     for ele in arr:\n",
    "#         if hashMap[ele] == 1:\n",
    "#             return ele\n",
    "\n",
    "\n",
    "\"\"\"\n",
    "BETTER - 2\n",
    "TC: O(N) + O(N/2 + 1)\n",
    "SC: O(N/2 + 1) \n",
    "\"\"\"\n",
    "# def findEle(arr, n):\n",
    "#     hashMap = {}\n",
    "\n",
    "#     for ele in arr:\n",
    "#         hashMap[ele] = hashMap.get(ele, 0) + 1\n",
    "    \n",
    "#     for key in hashMap:\n",
    "#         if hashMap[key] == 1:\n",
    "#             return key\n",
    "\n",
    "\n",
    "\"\"\"\n",
    "OPTIMAL\n",
    "TC: O(N)\n",
    "SC: O(1) \n",
    "\"\"\"\n",
    "# def findEle(arr, n):\n",
    "#     res = arr[0]\n",
    "#     for i in range(1, n):\n",
    "#         res = res^arr[i]\n",
    "#     return res\n",
    "\n",
    "\n",
    "\"\"\"\n",
    "OPTIMAL (Only in case of sorted array)\n",
    "TC: O(n)\n",
    "SC: O(1)\n",
    "\"\"\"\n",
    "def findEle(arr, n):\n",
    "    i = 0\n",
    "    while i<n-1:\n",
    "        if arr[i]!=arr[i+1]:\n",
    "            return arr[i]\n",
    "        i+=2\n",
    "    return arr[n-1]\n",
    "\n",
    "\n",
    "\n",
    "arr = [1,1,2,5,5,7,7]\n",
    "n = len(arr)\n",
    "res = findEle(arr, n)\n",
    "print(res)"
   ]
  },
  {
   "attachments": {},
   "cell_type": "markdown",
   "metadata": {},
   "source": [
    "Find longest subarray with sum K"
   ]
  },
  {
   "cell_type": "code",
   "execution_count": 127,
   "metadata": {},
   "outputs": [
    {
     "name": "stdout",
     "output_type": "stream",
     "text": [
      "3\n"
     ]
    }
   ],
   "source": [
    "\"\"\"\n",
    "BRUTE FORCE\n",
    "TC: O(N**2)\n",
    "SC: O(1)\n",
    "\"\"\"\n",
    "# def findLongestSubarraySumK(arr, n, K):\n",
    "#     maxLen = 0\n",
    "#     for i in range(n):\n",
    "#         sum = 0\n",
    "#         for j in range(i, n):\n",
    "#             sum+=arr[j]\n",
    "#             if sum==K:\n",
    "#                 maxLen = max(maxLen, j-i+1)\n",
    "    \n",
    "#     return maxLen\n",
    "\n",
    "\n",
    "\n",
    "\n",
    "\"\"\"\n",
    "BETTER (if there are only positive and 0s only)\n",
    "OPTIMAL (if there are both positive and negative numbers)\n",
    "\n",
    "TC: O(N) {inserting and fetching from hashMap are O(1) operations}\n",
    "SC: O(N) {as we are using hashMap}\n",
    "\"\"\"\n",
    "\n",
    "\n",
    "def findLongestSubarraySumK(arr, n, K):\n",
    "    prefixSum = {}\n",
    "\n",
    "    maxLen = 0\n",
    "\n",
    "    sum = 0\n",
    "    for i in range(n):\n",
    "        sum+=arr[i]\n",
    "        if sum==K:\n",
    "            maxLen = i+1\n",
    "        else:\n",
    "            j = prefixSum.get(sum-K, -1)\n",
    "            if j!=-1:\n",
    "                maxLen = max(i-j, maxLen)\n",
    "        if prefixSum.get(sum, -1) == -1:\n",
    "            prefixSum[sum] = i\n",
    "\n",
    "    return maxLen\n",
    "\n",
    "\n",
    "\"\"\"\n",
    "OPTIMAL (if there are positive and 0s only)\n",
    "TC: O(2N)\n",
    "SC: O(1)\n",
    "\"\"\"\n",
    "# def findLongestSubarraySumK(arr, n, K):\n",
    "#     i=0\n",
    "#     j=0\n",
    "#     sum = arr[0]\n",
    "#     maxLen = 0\n",
    "\n",
    "#     while j<n:\n",
    "#         while sum>K:\n",
    "#             sum-=arr[i]\n",
    "#             i+=1\n",
    "\n",
    "#         if sum==K:\n",
    "#             maxLen = max(maxLen, j-i+1)\n",
    "\n",
    "#         j+=1\n",
    "#         if j<n:\n",
    "#             sum+=arr[j]\n",
    "\n",
    "#     return maxLen\n",
    "\n",
    "\n",
    "arr = [1,2,3,1,1,1]\n",
    "n = len(arr)\n",
    "K = 3\n",
    "res = findLongestSubarraySumK(arr, n, K)\n",
    "print(res)"
   ]
  },
  {
   "cell_type": "code",
   "execution_count": null,
   "metadata": {},
   "outputs": [],
   "source": [
    "    "
   ]
  }
 ],
 "metadata": {
  "kernelspec": {
   "display_name": "Python 3.9.12",
   "language": "python",
   "name": "python3"
  },
  "language_info": {
   "codemirror_mode": {
    "name": "ipython",
    "version": 3
   },
   "file_extension": ".py",
   "mimetype": "text/x-python",
   "name": "python",
   "nbconvert_exporter": "python",
   "pygments_lexer": "ipython3",
   "version": "3.9.12"
  },
  "orig_nbformat": 4,
  "vscode": {
   "interpreter": {
    "hash": "40d3a090f54c6569ab1632332b64b2c03c39dcf918b08424e98f38b5ae0af88f"
   }
  }
 },
 "nbformat": 4,
 "nbformat_minor": 2
}
