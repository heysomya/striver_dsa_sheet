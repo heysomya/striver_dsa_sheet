{
 "cells": [
  {
   "attachments": {},
   "cell_type": "markdown",
   "metadata": {},
   "source": [
    "<h3>\n",
    "Binary Search to find TARGET\n",
    "</h3>\n",
    "\n",
    "NOTES for Binary Search:\n",
    "\n",
    "- If we cross integer max in any case, we can modify mid calcultaion:\n",
    "\n",
    "mid = low + (high-low)//2"
   ]
  },
  {
   "cell_type": "code",
   "execution_count": 16,
   "metadata": {},
   "outputs": [
    {
     "data": {
      "text/plain": [
       "4"
      ]
     },
     "execution_count": 16,
     "metadata": {},
     "output_type": "execute_result"
    }
   ],
   "source": [
    "\"\"\"\n",
    "ITERATIVE\n",
    "TC: O(logN)\n",
    "SC: O(1)\n",
    "\"\"\"\n",
    "class Solution:\n",
    "    def search(self, nums, target):\n",
    "        n = len(nums)\n",
    "\n",
    "        start = 0\n",
    "        end = n-1\n",
    "        while start<=end:\n",
    "            mid = (start+end)//2\n",
    "            if target<nums[mid]:\n",
    "                end = mid-1\n",
    "            elif target>nums[mid]:\n",
    "                start = mid+1\n",
    "            else:\n",
    "                return mid\n",
    "\n",
    "        return -1\n",
    "    \n",
    "\n",
    "\"\"\"\n",
    "RECURSIVE\n",
    "TC: O(logN)\n",
    "SC: O(N)\n",
    "\"\"\"\n",
    "# class Solution:\n",
    "#     def bSearch(self, nums, start, end, target):\n",
    "#         if start>end:\n",
    "#             return -1\n",
    "\n",
    "#         mid = (start+end)//2\n",
    "\n",
    "#         if target<nums[mid]:\n",
    "#             return self.bSearch(nums, start, mid-1, target)\n",
    "#         elif target>nums[mid]:\n",
    "#             return self.bSearch(nums, mid+1, end, target)\n",
    "#         else:\n",
    "#             return mid\n",
    "        \n",
    "\n",
    "#     def search(self, nums, target):\n",
    "#         n = len(nums)\n",
    "\n",
    "#         res = self.bSearch(nums, 0, n-1, target)\n",
    "#         return res\n",
    "    \n",
    "\n",
    "nums = [-1, 0, 3, 5, 9, 12]\n",
    "ob1 = Solution()\n",
    "ob1.search(nums, 9)"
   ]
  },
  {
   "attachments": {},
   "cell_type": "markdown",
   "metadata": {},
   "source": [
    "<h3>\n",
    "Implement Lower Bound\n",
    "</h3>\n",
    "\n",
    "Alternate Problem Name:\n",
    "Insert Search Position (Leetcode)\n",
    "\n",
    "- For a sorted array 'arr', 'lower_bound' of a number 'x' is defined as the smallest index 'idx' such that the value 'arr[idx]' is greater than or equal to 'x'."
   ]
  },
  {
   "cell_type": "code",
   "execution_count": 22,
   "metadata": {},
   "outputs": [
    {
     "name": "stdout",
     "output_type": "stream",
     "text": [
      "3\n"
     ]
    }
   ],
   "source": [
    "\"\"\"\n",
    "Binary Search Algo\n",
    "TC: O(logN)\n",
    "SC: O(1)\n",
    "\"\"\"\n",
    "\n",
    "def lowerBound(arr, n, x):\n",
    "    start = 0\n",
    "    end = n-1\n",
    "\n",
    "    ans = n\n",
    "\n",
    "    while start<=end:\n",
    "        mid = (start+end)//2\n",
    "\n",
    "        if arr[mid] >= x:\n",
    "            ans = mid\n",
    "            end = mid - 1\n",
    "        else:\n",
    "            start = mid + 1\n",
    "\n",
    "    \n",
    "    return ans\n",
    "\n",
    "\n",
    "arr = [1, 2, 2, 4, 6, 8, 9, 10]\n",
    "n = len(arr)\n",
    "x = 4\n",
    "res = lowerBound(arr, n, x)\n",
    "print(res)\n"
   ]
  },
  {
   "attachments": {},
   "cell_type": "markdown",
   "metadata": {},
   "source": [
    "<h3>\n",
    "Implement Upper Bound\n",
    "</h3>\n",
    "\n",
    "- For a sorted array 'arr', 'upper_bound' of a number 'x' is defined as the smallest index 'idx' such that the value 'arr[idx]' is greater than 'x'."
   ]
  },
  {
   "cell_type": "code",
   "execution_count": 23,
   "metadata": {},
   "outputs": [
    {
     "name": "stdout",
     "output_type": "stream",
     "text": [
      "4\n"
     ]
    }
   ],
   "source": [
    "\"\"\"\n",
    "Binary Search Algo\n",
    "TC: O(logN)\n",
    "SC: O(1)\n",
    "\"\"\"\n",
    "\n",
    "def upperBound(arr, x, n):\n",
    "    start = 0\n",
    "    end = n-1\n",
    "\n",
    "    ans = n\n",
    "\n",
    "    while start<=end:\n",
    "        mid = (start+end)//2\n",
    "\n",
    "        if arr[mid] > x:\n",
    "            ans = mid\n",
    "            end = mid - 1\n",
    "        else:\n",
    "            start = mid + 1\n",
    "\n",
    "    return ans \n",
    "\n",
    "\n",
    "arr = [1, 2, 2, 4, 6, 8, 9, 10]\n",
    "n = len(arr)\n",
    "x = 4\n",
    "res = upperBound(arr, n, x)\n",
    "print(res)"
   ]
  },
  {
   "attachments": {},
   "cell_type": "markdown",
   "metadata": {},
   "source": [
    "Find Floor and Ceiling in a Sorted Array"
   ]
  },
  {
   "cell_type": "code",
   "execution_count": 25,
   "metadata": {},
   "outputs": [
    {
     "name": "stdout",
     "output_type": "stream",
     "text": [
      "[4, 6]\n"
     ]
    }
   ],
   "source": [
    "\"\"\"\n",
    "Binary Search Algo\n",
    "TC: O(logN)\n",
    "SC: O(1)\n",
    "\"\"\"\n",
    "\n",
    "def ceilTheFloor(A, n, x):\n",
    "\n",
    "    A.sort()         # in case not sorted\n",
    "\n",
    "    start = 0\n",
    "    end = n-1\n",
    "    \n",
    "    floor = -1\n",
    "    ceil = -1\n",
    "    \n",
    "    while start<=end:\n",
    "        mid = (start + end)//2\n",
    "        \n",
    "        if A[mid]>x:\n",
    "            ceil = A[mid]\n",
    "            end = mid-1\n",
    "        elif A[mid]<x:\n",
    "            floor = A[mid]\n",
    "            start = mid+1\n",
    "        else:\n",
    "            floor = A[mid]\n",
    "            ceil = A[mid]\n",
    "            break\n",
    "    \n",
    "    return [floor, ceil]\n",
    "\n",
    "\n",
    "arr = [1, 2, 2, 4, 6, 8, 9, 10]\n",
    "n = len(arr)\n",
    "x = 5\n",
    "res = ceilTheFloor(arr, n, x)\n",
    "print(res)"
   ]
  },
  {
   "cell_type": "code",
   "execution_count": null,
   "metadata": {},
   "outputs": [],
   "source": []
  }
 ],
 "metadata": {
  "kernelspec": {
   "display_name": "Python 3",
   "language": "python",
   "name": "python3"
  },
  "language_info": {
   "codemirror_mode": {
    "name": "ipython",
    "version": 3
   },
   "file_extension": ".py",
   "mimetype": "text/x-python",
   "name": "python",
   "nbconvert_exporter": "python",
   "pygments_lexer": "ipython3",
   "version": "3.9.12"
  },
  "orig_nbformat": 4
 },
 "nbformat": 4,
 "nbformat_minor": 2
}
