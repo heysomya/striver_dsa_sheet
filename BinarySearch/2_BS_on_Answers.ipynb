{
 "cells": [
  {
   "attachments": {},
   "cell_type": "markdown",
   "metadata": {},
   "source": [
    "Find the Square Root of a Number\n",
    "\n",
    "- in case the number is not a perfect square, return floor of its square root"
   ]
  },
  {
   "cell_type": "code",
   "execution_count": 20,
   "metadata": {},
   "outputs": [
    {
     "name": "stdout",
     "output_type": "stream",
     "text": [
      "1\n"
     ]
    }
   ],
   "source": [
    "\"\"\"\n",
    "BRUTE FORCE\n",
    "TC: O(sqrt(n))\n",
    "SC: O(1)\n",
    "\"\"\"\n",
    "# def findSqrt(n):\n",
    "#     ans = 1\n",
    "#     for i in range(1, n//2+1):\n",
    "#         if i*i<=n:\n",
    "#             ans = i\n",
    "#         else:\n",
    "#             break\n",
    "\n",
    "#     return ans\n",
    "\n",
    "\n",
    "\"\"\"\n",
    "OPTIMAL\n",
    "TC: O(logN)\n",
    "SC: O(1)\n",
    "\"\"\"\n",
    "def findSqrt(n):\n",
    "    if n==1:\n",
    "        return 1\n",
    "\n",
    "    start = 1\n",
    "    end = n//2\n",
    "\n",
    "    while start<=end:\n",
    "        mid = (start+end)//2\n",
    "\n",
    "        val = mid*mid\n",
    "        \n",
    "        if val<=n:\n",
    "            start = mid+1\n",
    "        else:\n",
    "            end = mid-1\n",
    "\n",
    "    return end\n",
    "\n",
    "n = 1\n",
    "res = findSqrt(n)\n",
    "print(res)"
   ]
  },
  {
   "cell_type": "markdown",
   "metadata": {},
   "source": [
    "Find Nth Root of a Number"
   ]
  },
  {
   "cell_type": "code",
   "execution_count": 38,
   "metadata": {},
   "outputs": [
    {
     "name": "stdout",
     "output_type": "stream",
     "text": [
      "4\n"
     ]
    }
   ],
   "source": [
    "\"\"\"\n",
    "BRUTE FORCE\n",
    "TC: O(M*logN)\n",
    "SC: O(1)\n",
    "\"\"\"\n",
    "# def myPow(x, n):\n",
    "#     ans = 1\n",
    "\n",
    "#     while n>0:\n",
    "#         if n%2==0:\n",
    "#             x = x*x\n",
    "#             n = n//2\n",
    "#         else:\n",
    "#             ans = ans*x\n",
    "#             n = n-1\n",
    "    \n",
    "#     return ans\n",
    "\n",
    "# def findNthRoot(m, n):\n",
    "#     for i in range(1, m+1):\n",
    "#         val = myPow(i, n)\n",
    "\n",
    "#         if val==m:\n",
    "#             return i\n",
    "\n",
    "#     return -1\n",
    "\n",
    "\"\"\"\n",
    "OPTIMAL \n",
    "TC: O(logN * logM)\n",
    "SC: O(1)\n",
    "\"\"\"\n",
    "def myPow(x, n):\n",
    "    ans = 1\n",
    "\n",
    "    while n>0:\n",
    "        if n%2==0:\n",
    "            x = x*x\n",
    "            n = n//2\n",
    "        else:\n",
    "            ans = ans*x\n",
    "            n = n-1\n",
    "    \n",
    "    return ans\n",
    "\n",
    "\n",
    "def findNthRoot(m, n):\n",
    "    start = 1\n",
    "    end = m\n",
    "\n",
    "    while start<=end:\n",
    "        mid = (start + end)//2\n",
    "\n",
    "        val = myPow(mid, n)\n",
    "\n",
    "        if val==m:\n",
    "            return mid\n",
    "        elif val<m:\n",
    "            start = mid+1\n",
    "        else:\n",
    "            end = mid-1\n",
    "\n",
    "    return -1\n",
    "\n",
    "\n",
    "res = findNthRoot(1024, 5)\n",
    "print(res)\n"
   ]
  },
  {
   "cell_type": "code",
   "execution_count": null,
   "metadata": {},
   "outputs": [],
   "source": []
  }
 ],
 "metadata": {
  "kernelspec": {
   "display_name": "Python 3",
   "language": "python",
   "name": "python3"
  },
  "language_info": {
   "codemirror_mode": {
    "name": "ipython",
    "version": 3
   },
   "file_extension": ".py",
   "mimetype": "text/x-python",
   "name": "python",
   "nbconvert_exporter": "python",
   "pygments_lexer": "ipython3",
   "version": "3.9.12"
  },
  "orig_nbformat": 4
 },
 "nbformat": 4,
 "nbformat_minor": 2
}
