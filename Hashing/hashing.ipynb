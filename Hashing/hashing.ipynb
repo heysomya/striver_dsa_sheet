{
 "cells": [
  {
   "cell_type": "code",
   "execution_count": 20,
   "metadata": {},
   "outputs": [],
   "source": [
    "# count numbers\n",
    "\n",
    "def countFreq(arr, num):\n",
    "    hashMap = [0]*len(arr)\n",
    "    for ele in arr:\n",
    "        hashMap[ele] += 1\n",
    "\n",
    "    return hashMap[num]"
   ]
  },
  {
   "cell_type": "code",
   "execution_count": 21,
   "metadata": {},
   "outputs": [
    {
     "data": {
      "text/plain": [
       "4"
      ]
     },
     "execution_count": 21,
     "metadata": {},
     "output_type": "execute_result"
    }
   ],
   "source": [
    "arr = [1, 2, 3, 1, 1, 1]\n",
    "countFreq(arr, 1)"
   ]
  },
  {
   "cell_type": "code",
   "execution_count": 18,
   "metadata": {},
   "outputs": [],
   "source": [
    "# count characters\n",
    "\n",
    "def countFreqChar(c, char):\n",
    "    hashMap = [0]*256\n",
    "    for ele in c:\n",
    "        hashMap[ord(ele)] += 1\n",
    "\n",
    "    return hashMap[ord(char)]"
   ]
  },
  {
   "cell_type": "code",
   "execution_count": 19,
   "metadata": {},
   "outputs": [
    {
     "data": {
      "text/plain": [
       "7"
      ]
     },
     "execution_count": 19,
     "metadata": {},
     "output_type": "execute_result"
    }
   ],
   "source": [
    "c = \"abcjdgabAAAAAAAcbaabc\"\n",
    "countFreqChar(c, 'A')"
   ]
  },
  {
   "cell_type": "code",
   "execution_count": 26,
   "metadata": {},
   "outputs": [
    {
     "data": {
      "text/plain": [
       "[1, 2]"
      ]
     },
     "execution_count": 26,
     "metadata": {},
     "output_type": "execute_result"
    }
   ],
   "source": [
    "def topK(nums, k):\n",
    "\t#Code here\n",
    "    hashMap = {}\n",
    "    for ele in nums:\n",
    "        hashMap[ele] = hashMap.get(ele, 0) + 1\n",
    "    \n",
    "    max = 0\n",
    "    item = None\n",
    "    res=[]\n",
    "    while k>0:\n",
    "        for key in hashMap:\n",
    "            if hashMap[key] > max:\n",
    "                max = hashMap[key]\n",
    "                item = key\n",
    "        res.append(item)  \n",
    "        max=0\n",
    "        hashMap[item] = -1\n",
    "        item=None\n",
    "        k-=1\n",
    "    \n",
    "    return res\n",
    "\n",
    "topK([1, 1, 1, 2, 2, 3], 2)"
   ]
  },
  {
   "cell_type": "code",
   "execution_count": null,
   "metadata": {},
   "outputs": [],
   "source": []
  },
  {
   "cell_type": "code",
   "execution_count": null,
   "metadata": {},
   "outputs": [],
   "source": []
  }
 ],
 "metadata": {
  "kernelspec": {
   "display_name": "Python 3.9.12",
   "language": "python",
   "name": "python3"
  },
  "language_info": {
   "codemirror_mode": {
    "name": "ipython",
    "version": 3
   },
   "file_extension": ".py",
   "mimetype": "text/x-python",
   "name": "python",
   "nbconvert_exporter": "python",
   "pygments_lexer": "ipython3",
   "version": "3.9.12"
  },
  "orig_nbformat": 4,
  "vscode": {
   "interpreter": {
    "hash": "40d3a090f54c6569ab1632332b64b2c03c39dcf918b08424e98f38b5ae0af88f"
   }
  }
 },
 "nbformat": 4,
 "nbformat_minor": 2
}
