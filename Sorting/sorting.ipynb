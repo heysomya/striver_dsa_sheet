{
 "cells": [
  {
   "cell_type": "code",
   "execution_count": 5,
   "metadata": {},
   "outputs": [
    {
     "name": "stdout",
     "output_type": "stream",
     "text": [
      "[1, 1, 2, 2, 2, 3, 5, 6, 8]\n"
     ]
    }
   ],
   "source": [
    "# Selection Sort Algorithm\n",
    "\n",
    "def selectionSort(arr, n):\n",
    "    # Run loop till the second last element\n",
    "    for i in range(n-1):\n",
    "        # Find min in unsorted part of array\n",
    "        minIdx = i\n",
    "        for j in range(i, n):\n",
    "            if arr[j] < arr[minIdx]:\n",
    "                minIdx = j\n",
    "       \n",
    "        # Swap the current number and min in unsorted part\n",
    "        temp = arr[i]\n",
    "        arr[i] = arr[minIdx]\n",
    "        arr[minIdx] = temp\n",
    "\n",
    "\n",
    "arr1 = [1, 3, 5, 2, 1, 2, 8, 2, 6]\n",
    "n = len(arr1)\n",
    "selectionSort(arr1, n)\n",
    "print(arr1)"
   ]
  },
  {
   "cell_type": "code",
   "execution_count": 30,
   "metadata": {},
   "outputs": [
    {
     "name": "stdout",
     "output_type": "stream",
     "text": [
      "[0, 1, 2, 3, 4, 5, 6, 7, 8, 9, 10, 11, 12, 13, 14, 15, 16, 17, 18, 19, 20, 21, 22, 23, 24, 25, 26, 27, 28, 29, 30, 31, 32, 33, 34, 35, 36, 37, 38, 39, 40, 41, 42, 43, 44, 45, 46, 47, 48, 49, 50, 51, 52, 53, 54, 55, 56, 57, 58, 59, 60, 61, 62, 63, 64, 65, 66, 67, 68, 69, 70, 71, 72, 73, 74, 75, 76, 77, 78, 79, 80, 81, 82, 83, 84, 85, 86, 87, 88, 89, 90, 91, 92, 93, 94, 95, 96, 97, 98, 99]\n"
     ]
    }
   ],
   "source": [
    "# Bubble Sort Algorithm\n",
    "import random\n",
    "\n",
    "def bubbleSort(arr, n):\n",
    "    for i in range(n-1):\n",
    "        for j in range(n-i-1):\n",
    "            if arr[j] > arr[j+1]:\n",
    "                temp = arr[j]\n",
    "                arr[j] = arr[j+1]\n",
    "                arr[j+1] = temp\n",
    "\n",
    "def bubbleSortOptimized(arr, n):\n",
    "    # Only works if the given array is already sorted.\n",
    "\n",
    "    # Exits out of the function if there is no swapping after the first comparison.\n",
    "    swapped = False\n",
    "\n",
    "    for i in range(n-1):\n",
    "        for j in range(n-i-1):\n",
    "            if arr[j] > arr[j+1]:\n",
    "                swapped = True\n",
    "\n",
    "                temp = arr[j]\n",
    "                arr[j] = arr[j+1]\n",
    "                arr[j+1] = temp\n",
    "\n",
    "        if not swapped:\n",
    "            return\n",
    "\n",
    "arr2 = []\n",
    "n = 100\n",
    "for i in range(n):\n",
    "    arr2.append(i)\n",
    "random.shuffle(arr2)\n",
    "\n",
    "\n",
    "# bubbleSort(arr2, n)\n",
    "bubbleSortOptimized(arr2, n)\n",
    "print(arr2)"
   ]
  },
  {
   "cell_type": "code",
   "execution_count": 57,
   "metadata": {},
   "outputs": [
    {
     "name": "stdout",
     "output_type": "stream",
     "text": [
      "[0, 1, 2, 3, 4, 5, 6, 7, 8, 9, 10, 11, 12, 13, 14, 15, 16, 17, 18, 19, 20, 21, 22, 23, 24, 25, 26, 27, 28, 29, 30, 31, 32, 33, 34, 35, 36, 37, 38, 39, 40, 41, 42, 43, 44, 45, 46, 47, 48, 49, 50, 51, 52, 53, 54, 55, 56, 57, 58, 59, 60, 61, 62, 63, 64, 65, 66, 67, 68, 69, 70, 71, 72, 73, 74, 75, 76, 77, 78, 79, 80, 81, 82, 83, 84, 85, 86, 87, 88, 89, 90, 91, 92, 93, 94, 95, 96, 97, 98, 99, 100, 101, 102, 103, 104, 105, 106, 107, 108, 109, 110, 111, 112, 113, 114, 115, 116, 117, 118, 119, 120, 121, 122, 123, 124, 125, 126, 127, 128, 129, 130, 131, 132, 133, 134, 135, 136, 137, 138, 139, 140, 141, 142, 143, 144, 145, 146, 147, 148, 149, 150, 151, 152, 153, 154, 155, 156, 157, 158, 159, 160, 161, 162, 163, 164, 165, 166, 167, 168, 169, 170, 171, 172, 173, 174, 175, 176, 177, 178, 179, 180, 181, 182, 183, 184, 185, 186, 187, 188, 189, 190, 191, 192, 193, 194, 195, 196, 197, 198, 199, 200, 201, 202, 203, 204, 205, 206, 207, 208, 209, 210, 211, 212, 213, 214, 215, 216, 217, 218, 219, 220, 221, 222, 223, 224, 225, 226, 227, 228, 229, 230, 231, 232, 233, 234, 235, 236, 237, 238, 239, 240, 241, 242, 243, 244, 245, 246, 247, 248, 249, 250, 251, 252, 253, 254, 255, 256, 257, 258, 259, 260, 261, 262, 263, 264, 265, 266, 267, 268, 269, 270, 271, 272, 273, 274, 275, 276, 277, 278, 279, 280, 281, 282, 283, 284, 285, 286, 287, 288, 289, 290, 291, 292, 293, 294, 295, 296, 297, 298, 299, 300, 301, 302, 303, 304, 305, 306, 307, 308, 309, 310, 311, 312, 313, 314, 315, 316, 317, 318, 319, 320, 321, 322, 323, 324, 325, 326, 327, 328, 329, 330, 331, 332, 333, 334, 335, 336, 337, 338, 339, 340, 341, 342, 343, 344, 345, 346, 347, 348, 349, 350, 351, 352, 353, 354, 355, 356, 357, 358, 359, 360, 361, 362, 363, 364, 365, 366, 367, 368, 369, 370, 371, 372, 373, 374, 375, 376, 377, 378, 379, 380, 381, 382, 383, 384, 385, 386, 387, 388, 389, 390, 391, 392, 393, 394, 395, 396, 397, 398, 399, 400, 401, 402, 403, 404, 405, 406, 407, 408, 409, 410, 411, 412, 413, 414, 415, 416, 417, 418, 419, 420, 421, 422, 423, 424, 425, 426, 427, 428, 429, 430, 431, 432, 433, 434, 435, 436, 437, 438, 439, 440, 441, 442, 443, 444, 445, 446, 447, 448, 449, 450, 451, 452, 453, 454, 455, 456, 457, 458, 459, 460, 461, 462, 463, 464, 465, 466, 467, 468, 469, 470, 471, 472, 473, 474, 475, 476, 477, 478, 479, 480, 481, 482, 483, 484, 485, 486, 487, 488, 489, 490, 491, 492, 493, 494, 495, 496, 497, 498, 499]\n"
     ]
    }
   ],
   "source": [
    "def insertionSort(arr, n):\n",
    "    for i in range(n):\n",
    "        j = i\n",
    "        while j>0 and arr[j]<arr[j-1]:\n",
    "                temp = arr[j]\n",
    "                arr[j] = arr[j-1]\n",
    "                arr[j-1] = temp\n",
    "                j-=1\n",
    "\n",
    "def insertionSortOptimized(arr, n):\n",
    "    for i in range(n):\n",
    "        j = i\n",
    "        key = arr[j]\n",
    "        while j>0 and key<arr[j-1]:\n",
    "            arr[j] = arr[j-1]\n",
    "            j-=1\n",
    "        arr[j] = key\n",
    "\n",
    "\n",
    "arr3 = []\n",
    "n = 500\n",
    "for i in range(n):\n",
    "    arr3.append(i)\n",
    "random.shuffle(arr3)\n",
    "\n",
    "\n",
    "# insertionSort(arr3, n)\n",
    "insertionSortOptimized(arr3, n)\n",
    "print(arr3)"
   ]
  },
  {
   "cell_type": "code",
   "execution_count": 80,
   "metadata": {},
   "outputs": [
    {
     "name": "stdout",
     "output_type": "stream",
     "text": [
      "[1, 1, 2, 2, 3, 3, 6, 6, 6, 7, 89]\n"
     ]
    }
   ],
   "source": [
    "def merge(arr1, arr2, arr):\n",
    "    i=0\n",
    "    j=0\n",
    "    k=0\n",
    "\n",
    "    while i<len(arr1) and j<len(arr2):\n",
    "        if arr1[i] <= arr2[j]:\n",
    "            arr[k] = arr1[i]\n",
    "            i+=1\n",
    "            k+=1\n",
    "        else:\n",
    "            arr[k] = arr2[j]\n",
    "            j+=1\n",
    "            k+=1\n",
    "    \n",
    "    while i<len(arr1):\n",
    "        arr[k] = arr1[i]\n",
    "        i+=1\n",
    "        k+=1\n",
    "    \n",
    "    while j<len(arr2):\n",
    "        arr[k] = arr2[j]\n",
    "        j+=1\n",
    "        k+=1\n",
    "\n",
    "\n",
    "def mergeSort(arr):\n",
    "    n = len(arr)\n",
    "    if n<=1:\n",
    "        return\n",
    "    \n",
    "    mid = n//2\n",
    "    arr1 = arr[:mid]\n",
    "    arr2 = arr[mid:]\n",
    "    \n",
    "    mergeSort(arr1)\n",
    "    mergeSort(arr2)\n",
    "    merge(arr1, arr2, arr)\n",
    "\n",
    "\n",
    "arr4 = [3,6,2,1,6,89,2,1,6,3,7]\n",
    "\n",
    "\n",
    "mergeSort(arr4)\n",
    "print(arr4)\n",
    "\n"
   ]
  },
  {
   "cell_type": "code",
   "execution_count": 75,
   "metadata": {},
   "outputs": [
    {
     "name": "stdout",
     "output_type": "stream",
     "text": [
      "[1, 1, 2, 3, 5, 7, 8, 8, 9, 23, 231, 321]\n"
     ]
    }
   ],
   "source": [
    "# in-place merge sort (using indexes)\n",
    "\n",
    "def merge2(arr, l, m, r): \n",
    "    i=l\n",
    "    j=m+1\n",
    "\n",
    "    temp = []\n",
    "    while i<=m and j<=r:\n",
    "        if arr[i] <= arr[j]:\n",
    "            temp.append(arr[i])\n",
    "            i+=1\n",
    "        else:\n",
    "            temp.append(arr[j])\n",
    "            j+=1\n",
    "    \n",
    "    while i<=m:\n",
    "        temp.append(arr[i])\n",
    "        i+=1\n",
    "    \n",
    "    while j<=r:\n",
    "        temp.append(arr[j])\n",
    "        j+=1\n",
    "        \n",
    "    for i in range(len(temp)):\n",
    "        arr[l+i] = temp[i]\n",
    "        \n",
    "        \n",
    "        \n",
    "        \n",
    "def mergeSort2(arr, l, r):\n",
    "    if l>=r:\n",
    "        return \n",
    "\n",
    "    mid = (l+r)//2\n",
    "    mergeSort2(arr, l, mid)\n",
    "    mergeSort2(arr, mid+1, r)\n",
    "    merge2(arr, l, mid, r)\n",
    "\n",
    "\n",
    "\n",
    "\n",
    "arr5 = [5,2,1,7,9,3,1,8,231,8,321,23]\n",
    "n=len(arr5)\n",
    "\n",
    "mergeSort2(arr5, 0, n-1)\n",
    "print(arr5)\n"
   ]
  },
  {
   "cell_type": "code",
   "execution_count": 82,
   "metadata": {},
   "outputs": [
    {
     "name": "stdout",
     "output_type": "stream",
     "text": [
      "[1, 2, 3, 4, 5, 6, 7]\n"
     ]
    }
   ],
   "source": [
    "def quickSort(arr, start, end):\n",
    "    # Please add your code here\n",
    "    if start<end:\n",
    "        p_idx = partition(arr, start, end)\n",
    "\n",
    "        quickSort(arr, start, p_idx - 1)\n",
    "        quickSort(arr, p_idx+1, end)\n",
    "\n",
    "def partition(arr, start, end):\n",
    "    p_element = arr[start]\n",
    "\n",
    "    c = 0\n",
    "    for i in range(start, end+1):\n",
    "        if arr[i] < p_element:\n",
    "            c+=1\n",
    "\n",
    "    p_idx = start + c\n",
    "\n",
    "    arr[start], arr[p_idx] = arr[p_idx], arr[start]\n",
    "\n",
    "    while start<end:\n",
    "        if arr[start] <p_element:\n",
    "            start+=1\n",
    "        elif arr[end] >= p_element:\n",
    "            end -= 1\n",
    "        else:\n",
    "            arr[start], arr[end] = arr[end], arr[start]\n",
    "            start+=1\n",
    "            end-=1\n",
    "\n",
    "    return p_idx\n",
    "\n",
    "\n",
    "arr6 = [4,6,1,7,2,5,3]\n",
    "n=len(arr6)\n",
    "quickSort(arr6, 0, n-1)\n",
    "print(arr6)\n"
   ]
  },
  {
   "cell_type": "code",
   "execution_count": 85,
   "metadata": {},
   "outputs": [
    {
     "name": "stdout",
     "output_type": "stream",
     "text": [
      "[1, 2, 3, 4, 5, 6, 7, 8, 9]\n"
     ]
    }
   ],
   "source": [
    "def quickSort2(arr, start, end):\n",
    "    # Please add your code here\n",
    "    if start<end:\n",
    "        p_idx = partition2(arr, start, end)\n",
    "\n",
    "        quickSort2(arr, start, p_idx - 1)\n",
    "        quickSort2(arr, p_idx+1, end)\n",
    "\n",
    "def partition2(arr, start, end):\n",
    "    pivotEle = arr[start]\n",
    "\n",
    "    i=start\n",
    "    j=end\n",
    "    \n",
    "    while i<=j:\n",
    "        if arr[i]<=pivotEle:\n",
    "            i+=1\n",
    "        elif arr[j]>pivotEle:\n",
    "            j-=1\n",
    "        else:\n",
    "            arr[i], arr[j] = arr[j], arr[i]\n",
    "    \n",
    "    arr[j], arr[start] = arr[start], arr[j]\n",
    "            \n",
    "    return j\n",
    "\n",
    "\n",
    "arr7 = [4,6,1,7,2,5,3,9,8]\n",
    "n=len(arr7)\n",
    "quickSort2(arr7, 0, n-1)\n",
    "print(arr7)\n"
   ]
  },
  {
   "cell_type": "code",
   "execution_count": null,
   "metadata": {},
   "outputs": [],
   "source": []
  }
 ],
 "metadata": {
  "kernelspec": {
   "display_name": "Python 3.9.12",
   "language": "python",
   "name": "python3"
  },
  "language_info": {
   "codemirror_mode": {
    "name": "ipython",
    "version": 3
   },
   "file_extension": ".py",
   "mimetype": "text/x-python",
   "name": "python",
   "nbconvert_exporter": "python",
   "pygments_lexer": "ipython3",
   "version": "3.9.12"
  },
  "orig_nbformat": 4,
  "vscode": {
   "interpreter": {
    "hash": "40d3a090f54c6569ab1632332b64b2c03c39dcf918b08424e98f38b5ae0af88f"
   }
  }
 },
 "nbformat": 4,
 "nbformat_minor": 2
}
